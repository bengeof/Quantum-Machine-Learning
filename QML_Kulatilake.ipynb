{
  "nbformat": 4,
  "nbformat_minor": 0,
  "metadata": {
    "colab": {
      "name": "QML Kulatilake.ipynb",
      "provenance": [],
      "collapsed_sections": [],
      "toc_visible": true,
      "authorship_tag": "ABX9TyOJLdIGTwqsfgkfVnA8Ik9u",
      "include_colab_link": true
    },
    "kernelspec": {
      "name": "python3",
      "display_name": "Python 3"
    },
    "accelerator": "TPU"
  },
  "cells": [
    {
      "cell_type": "markdown",
      "metadata": {
        "id": "view-in-github",
        "colab_type": "text"
      },
      "source": [
        "<a href=\"https://colab.research.google.com/github/roberth2018/Quantum-Machine-Learning/blob/main/QML_Kulatilake.ipynb\" target=\"_parent\"><img src=\"https://colab.research.google.com/assets/colab-badge.svg\" alt=\"Open In Colab\"/></a>"
      ]
    },
    {
      "cell_type": "markdown",
      "metadata": {
        "id": "77vXBnQdEiAj"
      },
      "source": [
        "### Multidimensional Quantum machine learning model for predicting fragmentation by Rock Blasting  (Still not finished)"
      ]
    },
    {
      "cell_type": "code",
      "metadata": {
        "id": "NvXHpDjSdXla"
      },
      "source": [
        "pip install numba==0.49.1"
      ],
      "execution_count": null,
      "outputs": []
    },
    {
      "cell_type": "code",
      "metadata": {
        "id": "lpdJoyZmfAZH"
      },
      "source": [
        "pip install pennylane-qulacs[gpu]"
      ],
      "execution_count": null,
      "outputs": []
    },
    {
      "cell_type": "code",
      "metadata": {
        "id": "7rzd6PeSdgDR"
      },
      "source": [
        "pip install tensornetwork==0.3"
      ],
      "execution_count": null,
      "outputs": []
    },
    {
      "cell_type": "code",
      "metadata": {
        "id": "Y5cAKIOElc_Q"
      },
      "source": [
        "pip install cmake"
      ],
      "execution_count": null,
      "outputs": []
    },
    {
      "cell_type": "code",
      "metadata": {
        "id": "bDRyiOTqdi3S"
      },
      "source": [
        "#!pip uninstall pennylane pennylane-sf -y\r\n",
        "\r\n",
        "\r\n",
        "!pip install pennylane-qulacs[gpu] #pennylane-sf \r\n",
        "\r\n",
        "import pennylane\r\n",
        "dev = pennylane.device('qulacs.simulator', wires=14, gpu=True)"
      ],
      "execution_count": null,
      "outputs": []
    },
    {
      "cell_type": "code",
      "metadata": {
        "id": "U25bR08leyKH"
      },
      "source": [
        "import pennylane as qml\r\n",
        "from pennylane import numpy as np\r\n",
        "from pennylane.optimize import AdamOptimizer, GradientDescentOptimizer\r\n",
        "from pandas import read_csv\r\n",
        "import matplotlib.pyplot as plt\r\n",
        "import pandas as pd\r\n",
        "import tensorflow as tf\r\n",
        "from sklearn.model_selection import train_test_split"
      ],
      "execution_count": null,
      "outputs": []
    },
    {
      "cell_type": "code",
      "metadata": {
        "id": "gfEca-ghe42a",
        "colab": {
          "base_uri": "https://localhost:8080/"
        },
        "outputId": "00d12084-962a-4c75-d4cc-6d20eabd6ae5"
      },
      "source": [
        "# Importing the dataset\r\n",
        "\r\n",
        "blast = read_csv('/content/kulatilake1.csv', header=0)\r\n",
        "\r\n",
        "#transforming data\r\n",
        "from sklearn import preprocessing\r\n",
        "\r\n",
        "mm_scaler = preprocessing.MinMaxScaler()\r\n",
        "data = mm_scaler.fit_transform(blast)\r\n",
        "\r\n",
        "print(data.shape)\r\n",
        "\r\n",
        "X = data[:, 0:7]\r\n",
        "#X=2*X-1\r\n",
        "Y = data[:, 7]\r\n",
        "#Y=2*Y-1\r\n",
        "xtr, xt, ytr, yt = train_test_split(X, Y, test_size=0.3)"
      ],
      "execution_count": null,
      "outputs": [
        {
          "output_type": "stream",
          "text": [
            "(103, 8)\n"
          ],
          "name": "stdout"
        }
      ]
    },
    {
      "cell_type": "code",
      "metadata": {
        "id": "QSSCIkfkfCND"
      },
      "source": [
        "def statepreparation(x0, x1, x2, x3, x4, x5, x6, nqbits):\r\n",
        "\r\n",
        "    qml.RY(x0, wires=[0])\r\n",
        "    qml.RZ(x0, wires=[0])\r\n",
        "    qml.RY(x1, wires=[1])\r\n",
        "    qml.RZ(x1, wires=[1])\r\n",
        "    qml.RY(x2, wires=[2])\r\n",
        "    qml.RZ(x2, wires=[2])\r\n",
        "    qml.RY(x3, wires=[3])\r\n",
        "    qml.RZ(x3, wires=[3])\r\n",
        "    qml.RY(x4, wires=[4])\r\n",
        "    qml.RZ(x4, wires=[4])\r\n",
        "    qml.RY(x5, wires=[5])\r\n",
        "    qml.RZ(x5, wires=[5])\r\n",
        "    qml.RY(x6, wires=[6])\r\n",
        "    qml.RZ(x6, wires=[6])\r\n",
        "    #copy of encodings\r\n",
        "    qml.RY(x0, wires=[7])\r\n",
        "    qml.RZ(x0, wires=[7])\r\n",
        "    qml.RY(x1, wires=[8])\r\n",
        "    qml.RZ(x1, wires=[8])\r\n",
        "    qml.RY(x2, wires=[9])\r\n",
        "    qml.RZ(x2, wires=[9])\r\n",
        "    qml.RY(x3, wires=[10])\r\n",
        "    qml.RZ(x3, wires=[10])\r\n",
        "    qml.RY(x4, wires=[11])\r\n",
        "    qml.RZ(x4, wires=[11])\r\n",
        "    qml.RY(x5, wires=[12])\r\n",
        "    qml.RZ(x5, wires=[12])\r\n",
        "    qml.RY(x6, wires=[13])\r\n",
        "    qml.RZ(x6, wires=[13])\r\n",
        "    \r\n",
        "    for q in range(nqbits-1):\r\n",
        "        qml.CNOT(wires=[q, q+1])\r\n",
        "    \r\n",
        "    qml.CNOT(wires=[nqbits-1, 0])\r\n",
        "    \r\n",
        "    qml.RY(x0, wires=[0])\r\n",
        "    qml.RZ(x0, wires=[0])\r\n",
        "    qml.RY(x1, wires=[1])\r\n",
        "    qml.RZ(x1, wires=[1])\r\n",
        "    qml.RY(x2, wires=[2])\r\n",
        "    qml.RZ(x2, wires=[2])\r\n",
        "    qml.RY(x3, wires=[3])\r\n",
        "    qml.RZ(x3, wires=[3])\r\n",
        "    qml.RY(x4, wires=[4])\r\n",
        "    qml.RZ(x4, wires=[4])\r\n",
        "    qml.RY(x5, wires=[5])\r\n",
        "    qml.RZ(x5, wires=[5])\r\n",
        "    qml.RY(x6, wires=[6])\r\n",
        "    qml.RZ(x6, wires=[6])\r\n",
        "    #copy of encodings\r\n",
        "    qml.RY(x0, wires=[7])\r\n",
        "    qml.RZ(x0, wires=[7])\r\n",
        "    qml.RY(x1, wires=[8])\r\n",
        "    qml.RZ(x1, wires=[8])\r\n",
        "    qml.RY(x2, wires=[9])\r\n",
        "    qml.RZ(x2, wires=[9])\r\n",
        "    qml.RY(x3, wires=[10])\r\n",
        "    qml.RZ(x3, wires=[10])\r\n",
        "    qml.RY(x4, wires=[11])\r\n",
        "    qml.RZ(x4, wires=[11])\r\n",
        "    qml.RY(x5, wires=[12])\r\n",
        "    qml.RZ(x5, wires=[12])\r\n",
        "    qml.RY(x6, wires=[13])\r\n",
        "    qml.RZ(x6, wires=[13])\r\n",
        "    \r\n",
        "    for q in range(nqbits-1):\r\n",
        "        qml.CNOT(wires=[q, q+1])\r\n",
        "    \r\n",
        "    qml.CNOT(wires=[nqbits-1, 0])\r\n",
        "#theta0=theta[0][1][2]        \r\n",
        "#len(theta[0][1][2])    \r\n",
        "def layer(theta):\r\n",
        "    nqbits=len(theta[0])\r\n",
        "    nlayer=len(theta)\r\n",
        "    \r\n",
        "    for l in range(nlayer):\r\n",
        "        \r\n",
        "        for i in range(nqbits-1):\r\n",
        "            qml.CNOT(wires=[i, i+1])\r\n",
        "        qml.CNOT(wires=[nqbits-1, 0])\r\n",
        "        for q in range(nqbits):\r\n",
        "            theta0=theta[l][q][0]\r\n",
        "            theta1=theta[l][q][1]\r\n",
        "            theta2=theta[l][q][2]\r\n",
        "            qml.RX(theta0, wires=[q])\r\n",
        "            qml.RZ(theta1, wires=[q])\r\n",
        "            qml.RX(theta2, wires=[q])\r\n",
        "        "
      ],
      "execution_count": null,
      "outputs": []
    },
    {
      "cell_type": "code",
      "metadata": {
        "id": "GQlqTWbKfLGX",
        "colab": {
          "base_uri": "https://localhost:8080/",
          "height": 231
        },
        "outputId": "fe63b858-8b24-42fd-9c7b-8c22377d1188"
      },
      "source": [
        "dev = qml.device(\"qulacs.simulator\", wires=14, gpu=True)\r\n",
        "nqbits=2*len(xt[0])\r\n",
        "#dev = qml.device('default.tensor.tf', wires=nqbits)  \r\n",
        "  \r\n",
        "@qml.qnode(dev)\r\n",
        "def qcircuit(theta, x0, x1, x2, x3,\r\n",
        "             x4, x5, x6):\r\n",
        "    measure=[]\r\n",
        "    nqbits=len(theta[0])\r\n",
        "    statepreparation(x0, x1, x2, x3, x4, x5, x6, nqbits)\r\n",
        "    layer(theta)\r\n",
        "    for q in range(nqbits):\r\n",
        "        zeta=qml.expval(qml.PauliZ([q]))\r\n",
        "        measure.append(zeta)\r\n",
        "    return measure\r\n",
        "#n=qcircuit(theta, xtr[0][0], xtr[0][1], xtr[0][2], xtr[0][3],\r\n",
        "             #xtr[0][4], xtr[0][5], xtr[0][6])  #len(n.shape)\r\n",
        "\r\n",
        "def square_loss(labels, predictions):\r\n",
        "    loss = 0\r\n",
        "    for l, p in zip(labels, predictions):\r\n",
        "        loss = loss + (l - p) ** 2\r\n",
        "\r\n",
        "    loss = loss / len(labels)\r\n",
        "    return loss\r\n",
        "\r\n",
        "def lparam(m, fz, y):\r\n",
        "    mq=np.array(m) #orden nxfz\r\n",
        "    beta1=np.matmul(np.linalg.inv(np.matmul(np.transpose(mq),mq )),np.transpose(mq))\r\n",
        "    betas=np.matmul(beta1,y)\r\n",
        "    return betas\r\n",
        "\r\n",
        "\r\n",
        "def betas_model(theta,x0,x1,x2,x3,x4,x5,x6,y, fz):\r\n",
        "    measure=[]\r\n",
        "    for i in range(len(x1)):\r\n",
        "        m=qcircuit(theta, x0[i],x1[i],x2[i],x3[i],x4[i],x5[i],x6[i])\r\n",
        "        measure.append(m)\r\n",
        "    mq=measure\r\n",
        "    betas=lparam(mq, fz, y)\r\n",
        "    return betas\r\n",
        "\r\n",
        "def predictor(theta,x0,x1,x2,x3,x4,x5,x6,fz,betas):\r\n",
        "    m=qcircuit(theta, x0,x1,x2,x3,x4,x5,x6)\r\n",
        "    m=m[0:fz]\r\n",
        "    \r\n",
        "    matriz_pr=[]\r\n",
        "    for i in range(fz):\r\n",
        "        pr=m[i]*betas[i]\r\n",
        "        matriz_pr.append(pr)\r\n",
        "    pred=np.sum(matriz_pr)\r\n",
        "    \r\n",
        "    return pred\r\n",
        "#veta[0]\r\n",
        "#iu=predictor(theta,xtr[0,0],xtr[0,1],xtr[0,2],xtr[0,3],xtr[0,4],xtr[0,5],xtr[0,6],fz,veta)\r\n",
        "#iu=np.array(iu)\r\n",
        "def total_cost(theta,x,y,fz):\r\n",
        "    x0=x[:,0]\r\n",
        "    x1=x[:,1]\r\n",
        "    x2=x[:,2]\r\n",
        "    x3=x[:,3]\r\n",
        "    x4=x[:,4]\r\n",
        "    x5=x[:,5]\r\n",
        "    x6=x[:,6]\r\n",
        "    betas=betas_model(theta,x0,x1,x2,x3,x4,x5,x6,y,fz)\r\n",
        "    predi=[]\r\n",
        "    for i in range(len(x0)):\r\n",
        "        pred=predictor(theta,x0[i],x1[i],x2[i],x3[i],x4[i],x5[i],x6[i],fz,betas)\r\n",
        "        predi.append(pred)\r\n",
        "    predic=predi\r\n",
        "    res=square_loss(y, predic)\r\n",
        "    #proto_tensor = tf.make_tensor_proto(res)\r\n",
        "    #res=tf.make_ndarray(proto_tensor)\r\n",
        "    #res=res[0][0]\r\n",
        "    \r\n",
        "    return res"
      ],
      "execution_count": null,
      "outputs": [
        {
          "output_type": "error",
          "ename": "NameError",
          "evalue": "ignored",
          "traceback": [
            "\u001b[0;31m---------------------------------------------------------------------------\u001b[0m",
            "\u001b[0;31mNameError\u001b[0m                                 Traceback (most recent call last)",
            "\u001b[0;32m<ipython-input-1-f4c475bc833c>\u001b[0m in \u001b[0;36m<module>\u001b[0;34m()\u001b[0m\n\u001b[0;32m----> 1\u001b[0;31m \u001b[0mdev\u001b[0m \u001b[0;34m=\u001b[0m \u001b[0mqml\u001b[0m\u001b[0;34m.\u001b[0m\u001b[0mdevice\u001b[0m\u001b[0;34m(\u001b[0m\u001b[0;34m\"qulacs.simulator\"\u001b[0m\u001b[0;34m,\u001b[0m \u001b[0mwires\u001b[0m\u001b[0;34m=\u001b[0m\u001b[0;36m14\u001b[0m\u001b[0;34m,\u001b[0m \u001b[0mgpu\u001b[0m\u001b[0;34m=\u001b[0m\u001b[0;32mTrue\u001b[0m\u001b[0;34m)\u001b[0m\u001b[0;34m\u001b[0m\u001b[0;34m\u001b[0m\u001b[0m\n\u001b[0m\u001b[1;32m      2\u001b[0m \u001b[0mnqbits\u001b[0m\u001b[0;34m=\u001b[0m\u001b[0;36m2\u001b[0m\u001b[0;34m*\u001b[0m\u001b[0mlen\u001b[0m\u001b[0;34m(\u001b[0m\u001b[0mxt\u001b[0m\u001b[0;34m[\u001b[0m\u001b[0;36m0\u001b[0m\u001b[0;34m]\u001b[0m\u001b[0;34m)\u001b[0m\u001b[0;34m\u001b[0m\u001b[0;34m\u001b[0m\u001b[0m\n\u001b[1;32m      3\u001b[0m \u001b[0;31m#dev = qml.device('default.tensor.tf', wires=nqbits)\u001b[0m\u001b[0;34m\u001b[0m\u001b[0;34m\u001b[0m\u001b[0;34m\u001b[0m\u001b[0m\n\u001b[1;32m      4\u001b[0m \u001b[0;34m\u001b[0m\u001b[0m\n\u001b[1;32m      5\u001b[0m \u001b[0;34m@\u001b[0m\u001b[0mqml\u001b[0m\u001b[0;34m.\u001b[0m\u001b[0mqnode\u001b[0m\u001b[0;34m(\u001b[0m\u001b[0mdev\u001b[0m\u001b[0;34m)\u001b[0m\u001b[0;34m\u001b[0m\u001b[0;34m\u001b[0m\u001b[0m\n",
            "\u001b[0;31mNameError\u001b[0m: name 'qml' is not defined"
          ]
        }
      ]
    },
    {
      "cell_type": "code",
      "metadata": {
        "id": "6zTakAQ9fvfV"
      },
      "source": [
        "opt = AdamOptimizer(0.01, beta1=0.9, beta2=0.999)\r\n",
        "\r\n",
        "num_qubits = 2*len(xt[0])\r\n",
        "num_layers = 3\r\n",
        "fz=14\r\n",
        "theta_init = (0.01 * np.random.randn(num_layers, num_qubits, 3))\r\n",
        "\r\n"
      ],
      "execution_count": null,
      "outputs": []
    },
    {
      "cell_type": "code",
      "metadata": {
        "id": "0KJd14rlf7A7"
      },
      "source": [
        "print(theta_init)\r\n",
        "theta = theta_init"
      ],
      "execution_count": null,
      "outputs": []
    },
    {
      "cell_type": "code",
      "metadata": {
        "id": "FEbNYoPngFCP"
      },
      "source": [
        "for it in range(1):\r\n",
        "    theta = opt.step(lambda v: total_cost(v, xtr, ytr, fz), theta)\r\n",
        "    print(\"Iter: {:5d} | Cost: {:0.8f} \".format(it + 1, total_cost(theta, xtr, ytr,fz)))\r\n"
      ],
      "execution_count": null,
      "outputs": []
    },
    {
      "cell_type": "code",
      "metadata": {
        "colab": {
          "base_uri": "https://localhost:8080/",
          "height": 370
        },
        "id": "umJ-OqFlgNGb",
        "outputId": "9243500a-4bde-4d30-97cb-b1b93f5997e6"
      },
      "source": [
        "#prediction test\r\n",
        "betas=betas_model(theta,xtr[:,0],xtr[:,1],xtr[:,2],xtr[:,3],xtr[:,4],xtr[:,5],xtr[:,6],ytr,fz) \r\n",
        "predics =[]\r\n",
        "for i in range(len(xt)):\r\n",
        "    p=predictor(theta,xt[i,0],xt[i,1],xt[i,2],xt[i,3],xt[i,4],xt[i,5],xt[i,6],fz,betas) \r\n",
        "    predics.append(p)\r\n",
        "    \r\n",
        "    \r\n",
        "    \r\n",
        "import matplotlib.pyplot as plt\r\n",
        "\r\n",
        "plt.figure(figsize=(10, 5))\r\n",
        "#plt.plot(predics)\r\n",
        "plt.plot(predics, marker=\"x\", linestyle=':', color='b', label=\"Predicted\")\r\n",
        "plt.plot(yt, marker='*', linestyle='-', color='r', label =\"Real\")\r\n",
        "plt.legend(loc=\"upper left\")\r\n",
        "plt.title('Comparativo Validación Real VS CVQNN')\r\n",
        "\r\n",
        "from sklearn.metrics import mean_squared_error, r2_score\r\n",
        "# Por último, calculamos el error cuadrático medio y el estadístico R^2\r\n",
        "print( u'Estadístico R_2: %.2f' % r2_score(yt, predics))\r\n",
        "print( u'Error cuadrático medio: %.2f' % mean_squared_error(yt, predics))\r\n",
        "\r\n"
      ],
      "execution_count": null,
      "outputs": [
        {
          "output_type": "stream",
          "text": [
            "Estadístico R_2: 0.42\n",
            "Error cuadrático medio: 0.03\n"
          ],
          "name": "stdout"
        },
        {
          "output_type": "display_data",
          "data": {
            "image/png": "[encoded data removed]",
            "text/plain": [
              "<Figure size 720x360 with 1 Axes>"
            ]
          },
          "metadata": {
            "tags": [],
            "needs_background": "light"
          }
        }
      ]
    },
    {
      "cell_type": "code",
      "metadata": {
        "colab": {
          "base_uri": "https://localhost:8080/"
        },
        "id": "JFky9z0f2M3q",
        "outputId": "38959add-b1ec-494e-b73c-2eb86cd2a0f2"
      },
      "source": [
        "print(theta)"
      ],
      "execution_count": null,
      "outputs": [
        {
          "output_type": "stream",
          "text": [
            "[[[ 0.02181269  0.01911697  0.01273632]\n",
            "  [-0.02981751 -0.03715682 -0.02157594]\n",
            "  [-0.00544543  0.00156251 -0.01227777]\n",
            "  [-0.02004572  0.05212464 -0.02107735]\n",
            "  [-0.0047932   0.06048518  0.02058017]\n",
            "  [ 0.01769026  0.02354195  0.0161058 ]\n",
            "  [ 0.00170229  0.03688872  0.02906443]\n",
            "  [ 0.03594132  0.03302265  0.02457917]\n",
            "  [ 0.0233495   0.0504489   0.01836766]\n",
            "  [ 0.01909437  0.02976896  0.0241153 ]\n",
            "  [ 0.01557108 -0.01646412  0.00872197]\n",
            "  [ 0.02682324  0.02969322 -0.00426994]\n",
            "  [-0.0382521   0.03476903 -0.02958268]\n",
            "  [-0.02603323  0.02071231 -0.01765647]]]\n"
          ],
          "name": "stdout"
        }
      ]
    },
    {
      "cell_type": "code",
      "metadata": {
        "id": "xbqI9Ma20Yav"
      },
      "source": [
        "theta_data = theta.to_csv(index=False)"
      ],
      "execution_count": null,
      "outputs": []
    }
  ]
}